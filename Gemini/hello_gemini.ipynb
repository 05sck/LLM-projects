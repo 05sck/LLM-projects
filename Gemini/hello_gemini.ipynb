{
 "cells": [
  {
   "cell_type": "code",
   "execution_count": 1,
   "metadata": {},
   "outputs": [],
   "source": [
    "# !pip install -q -U google-genai"
   ]
  },
  {
   "cell_type": "code",
   "execution_count": 2,
   "metadata": {},
   "outputs": [],
   "source": [
    "# !pip install python-dotenv \n",
    "\n",
    "import os\n",
    "from dotenv import load_dotenv\n",
    "\n",
    "load_dotenv()\n",
    "API_KEY = os.getenv(\"GEMINI_API_KEY\")"
   ]
  },
  {
   "cell_type": "code",
   "execution_count": 3,
   "metadata": {},
   "outputs": [
    {
     "name": "stdout",
     "output_type": "stream",
     "text": [
      "API 키가 정상적으로 로드되었습니다!\n"
     ]
    }
   ],
   "source": [
    "if not API_KEY:\n",
    "    raise ValueError(\"API 키가 설정되지 않았습니다. .env 파일을 확인하세요.\")\n",
    "\n",
    "print(\"API 키가 정상적으로 로드되었습니다!\")  # 테스트용 출력\n"
   ]
  },
  {
   "cell_type": "code",
   "execution_count": 4,
   "metadata": {},
   "outputs": [],
   "source": [
    "import sys\n",
    "sys.path.append(\"C:/Users/hssj5/OneDrive/Desktop/seongjun/ml_bootcamp/LLM-projects/Gemini/DB\")"
   ]
  },
  {
   "cell_type": "code",
   "execution_count": 5,
   "metadata": {},
   "outputs": [
    {
     "name": "stdout",
     "output_type": "stream",
     "text": [
      "hoon => {'phone': '93742503', 'name': 'hoon'}\n",
      "joo => {'phone': 65647270, 'name': 'joo'}\n",
      "jun => {'phone': 56111590, 'name': 'jun'}\n",
      "minji => {'phone': 92517908, 'name': 'minji'}\n",
      "youngho => {'phone': 40400176, 'name': 'youngho'}\n"
     ]
    }
   ],
   "source": [
    "import testdb"
   ]
  },
  {
   "cell_type": "code",
   "execution_count": 6,
   "metadata": {},
   "outputs": [
    {
     "data": {
      "text/plain": [
       "'\\nfor doc in docs:\\n    print(f\"{doc.id} => {doc.to_dict()}\")\\n'"
      ]
     },
     "execution_count": 6,
     "metadata": {},
     "output_type": "execute_result"
    }
   ],
   "source": [
    "db = testdb.db\n",
    "collection_ref = db.collection(\"users\")\n",
    "\n",
    "docs = collection_ref.stream()\n",
    "\n",
    "name_list = [doc.to_dict()[\"name\"] for doc in collection_ref.stream()]\n",
    "\n",
    "'''\n",
    "for doc in docs:\n",
    "    print(f\"{doc.id} => {doc.to_dict()}\")\n",
    "'''"
   ]
  },
  {
   "cell_type": "code",
   "execution_count": 7,
   "metadata": {},
   "outputs": [
    {
     "name": "stdout",
     "output_type": "stream",
     "text": [
      "['hoon', 'joo', 'jun', 'minji', 'youngho']\n"
     ]
    },
    {
     "data": {
      "text/plain": [
       "list"
      ]
     },
     "execution_count": 7,
     "metadata": {},
     "output_type": "execute_result"
    }
   ],
   "source": [
    "print(name_list)\n",
    "type(name_list)"
   ]
  },
  {
   "cell_type": "code",
   "execution_count": null,
   "metadata": {},
   "outputs": [
    {
     "name": "stdout",
     "output_type": "stream",
     "text": [
      "내일 숲 체험 학습이 예정되어 있는데, 날씨가 쌀쌀하니 hoon에게 따뜻한 옷과 장갑을 꼭 챙겨 보내달라는 내용을 작성해줘\n"
     ]
    }
   ],
   "source": [
    "from google import genai\n",
    "from google.genai import types\n",
    "\n",
    "client = genai.Client(api_key=API_KEY)\n",
    "\n",
    "name = name_list[0]\n",
    "\n",
    "prompt = f\"내일 숲 체험 학습이 예정되어 있는데, 날씨가 쌀쌀하니 {name}에게 따뜻한 옷과 장갑을 꼭 챙겨 보내달라는 내용을 작성해줘\"\n",
    "sys_instruct = \"\"\"너는 유치원 선생님이야. 학부모님께 안내 문자를 보내야 하는 상황이야. 어투는 ~해요 체를 쓰고, 친근하게 써줘.\n",
    "예시는 다음과 같아.\n",
    "안녕하세요, 성준 어머님!\n",
    "내일 우리 친구들과 함께 신나는 숲 체험 학습을 떠나는 날이에요!\n",
    "그런데 내일 날씨가 조금 쌀쌀할 것 같아요. \n",
    "성준이가 감기 걸리지 않고 즐겁게 숲 체험을 할 수 있도록 따뜻한 옷과 장갑을 꼭 챙겨 보내주세요! \n",
    "특히 바람막이 점퍼나 도톰한 외투가 있으면 더욱 좋을 것 같아요.\n",
    "좋은 하루 되세요!\n",
    "\"\"\"\n",
    "\n",
    "print(prompt)"
   ]
  },
  {
   "cell_type": "code",
   "execution_count": 19,
   "metadata": {},
   "outputs": [
    {
     "name": "stdout",
     "output_type": "stream",
     "text": [
      "안녕하세요, hoon 어머님!\n",
      "\n",
      "내일 우리 친구들과 함께 신나는 숲 체험 학습을 떠나는 날이에요!  hoon이도 숲 체험 간다고 엄청 신나 하더라고요. 😊\n",
      "\n",
      "그런데 내일 날씨가 조금 쌀쌀할 것 같아요. hoon이가 감기 걸리지 않고 즐겁고 신나게 숲 체험을 할 수 있도록 따뜻한 옷과 장갑을 꼭 챙겨 보내주세요! 특히 바람막이 점퍼나 도톰한 외투가 있으면 더욱 좋을 것 같아요.\n",
      "\n",
      "내일 즐겁고 유익한 숲 체험이 될 수 있도록 선생님이 잘 챙길게요!  좋은 하루 보내세요! 😊\n",
      "\n"
     ]
    }
   ],
   "source": [
    "response = client.models.generate_content(\n",
    "    model=\"gemini-1.5-pro\",\n",
    "    config = types.GenerateContentConfig(\n",
    "        system_instruction = sys_instruct),\n",
    "    contents=prompt\n",
    ")\n",
    "print(response.text)"
   ]
  },
  {
   "cell_type": "code",
   "execution_count": 18,
   "metadata": {},
   "outputs": [
    {
     "data": {
      "text/plain": [
       "str"
      ]
     },
     "execution_count": 18,
     "metadata": {},
     "output_type": "execute_result"
    }
   ],
   "source": [
    "type(response.text)"
   ]
  },
  {
   "cell_type": "code",
   "execution_count": null,
   "metadata": {},
   "outputs": [],
   "source": []
  }
 ],
 "metadata": {
  "kernelspec": {
   "display_name": "venv",
   "language": "python",
   "name": "python3"
  },
  "language_info": {
   "codemirror_mode": {
    "name": "ipython",
    "version": 3
   },
   "file_extension": ".py",
   "mimetype": "text/x-python",
   "name": "python",
   "nbconvert_exporter": "python",
   "pygments_lexer": "ipython3",
   "version": "3.11.9"
  }
 },
 "nbformat": 4,
 "nbformat_minor": 2
}
