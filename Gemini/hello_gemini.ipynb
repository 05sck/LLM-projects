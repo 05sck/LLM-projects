{
 "cells": [
  {
   "cell_type": "code",
   "execution_count": null,
   "metadata": {},
   "outputs": [
    {
     "name": "stdout",
     "output_type": "stream",
     "text": [
      "Note: you may need to restart the kernel to use updated packages.\n"
     ]
    },
    {
     "name": "stderr",
     "output_type": "stream",
     "text": [
      "\n",
      "[notice] A new release of pip is available: 24.0 -> 25.0.1\n",
      "[notice] To update, run: C:\\Users\\hssj5\\AppData\\Local\\Microsoft\\WindowsApps\\PythonSoftwareFoundation.Python.3.11_qbz5n2kfra8p0\\python.exe -m pip install --upgrade pip\n"
     ]
    }
   ],
   "source": [
    "# !pip install -q -U google-genai"
   ]
  },
  {
   "cell_type": "code",
   "execution_count": 1,
   "metadata": {},
   "outputs": [],
   "source": [
    "# !pip install python-dotenv \n",
    "\n",
    "import os\n",
    "from dotenv import load_dotenv\n",
    "\n",
    "load_dotenv()\n",
    "API_KEY = os.getenv(\"GEMINI_API_KEY\")"
   ]
  },
  {
   "cell_type": "code",
   "execution_count": 2,
   "metadata": {},
   "outputs": [
    {
     "name": "stdout",
     "output_type": "stream",
     "text": [
      "API 키가 정상적으로 로드되었습니다!\n"
     ]
    }
   ],
   "source": [
    "if not API_KEY:\n",
    "    raise ValueError(\"API 키가 설정되지 않았습니다. .env 파일을 확인하세요.\")\n",
    "\n",
    "print(\"API 키가 정상적으로 로드되었습니다!\")  # 테스트용 출력\n"
   ]
  },
  {
   "cell_type": "code",
   "execution_count": 3,
   "metadata": {},
   "outputs": [
    {
     "name": "stdout",
     "output_type": "stream",
     "text": [
      "[유치원 이름]\n",
      "\n",
      "**안내장**\n",
      "\n",
      "친애하는 학부모님께,\n",
      "\n",
      "[유치원 이름]은 [행사 이름]에 귀하와 귀하의 자녀를 초대합니다. 이 행사는 모든 사람을 위한 재미와 흥미로운 경험을 약속합니다.\n",
      "\n",
      "**날짜:** [날짜]\n",
      "**시간:** [시간]\n",
      "**장소:** [장소]\n",
      "\n",
      "다음과 같은 흥미로운 활동을 준비했습니다.\n",
      "\n",
      "* [활동 1]\n",
      "* [활동 2]\n",
      "* [활동 3]\n",
      "* [활동 4]\n",
      "\n",
      "아이들이 친구들과 즐거운 시간을 보내고 추억을 만들 수 있도록 행사에 참여하도록 장려해 주십시오.\n",
      "\n",
      "참석하고 싶다면 늦어도 [RSVP 날짜]까지 [전화번호 또는 이메일 주소]로 회신해 주십시오.\n",
      "\n",
      "귀하와 귀하의 자녀를 거기서 만나 뵙기를 바랍니다!\n",
      "\n",
      "감사합니다,\n",
      "[선생님 이름]\n",
      "[유치원 이름]\n"
     ]
    }
   ],
   "source": [
    "from google import genai\n",
    "\n",
    "client = genai.Client(api_key=API_KEY)\n",
    "response = client.models.generate_content(\n",
    "    model=\"gemini-1.5-pro\", contents=\"너는 유치원 선생님으로서 안내장을 만드는 역할이야. 행사를 위한 안내장을 만들어.\"\n",
    ")\n",
    "print(response.text)\n"
   ]
  },
  {
   "cell_type": "code",
   "execution_count": null,
   "metadata": {},
   "outputs": [],
   "source": []
  }
 ],
 "metadata": {
  "kernelspec": {
   "display_name": "Python 3",
   "language": "python",
   "name": "python3"
  },
  "language_info": {
   "codemirror_mode": {
    "name": "ipython",
    "version": 3
   },
   "file_extension": ".py",
   "mimetype": "text/x-python",
   "name": "python",
   "nbconvert_exporter": "python",
   "pygments_lexer": "ipython3",
   "version": "3.11.9"
  }
 },
 "nbformat": 4,
 "nbformat_minor": 2
}
